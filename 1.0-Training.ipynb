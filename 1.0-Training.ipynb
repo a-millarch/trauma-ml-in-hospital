{
 "cells": [
  {
   "cell_type": "markdown",
   "metadata": {},
   "source": [
    "# Example of model training"
   ]
  },
  {
   "cell_type": "markdown",
   "metadata": {},
   "source": [
    "This notebooks demonstrates how to run the training scripts using configuration files."
   ]
  },
  {
   "cell_type": "code",
   "execution_count": null,
   "metadata": {},
   "outputs": [],
   "source": [
    "# Adjust to local directory, where project is located\n",
    "local_dir = './'"
   ]
  },
  {
   "cell_type": "markdown",
   "metadata": {},
   "source": [
    "## Tree-based and boosting models"
   ]
  },
  {
   "cell_type": "markdown",
   "metadata": {},
   "source": [
    "Runs .py script training Random Forest, AdaBoost, XGBoost, General Additive model (Explainable Boosting Classifier)) to predict long-term hospitalization by de-novo approach (only using Danish Trauma Dataset for training data)."
   ]
  },
  {
   "cell_type": "code",
   "execution_count": null,
   "metadata": {},
   "outputs": [],
   "source": [
    "script_path =local_dir+'src/training_scripts/tree_models.py'\n",
    "exp = 'los'\n",
    "conf_name ='de-novo-clean.yaml'\n",
    "\n",
    "!python {script_path} {exp} {conf_name}"
   ]
  },
  {
   "cell_type": "markdown",
   "metadata": {},
   "source": [
    "## Neural networks and transfer learning using data resampling"
   ]
  },
  {
   "cell_type": "markdown",
   "metadata": {},
   "source": [
    "Runs .py script training neural networks by de-novo approach with data resampling and by using transfer learning with data resampling predicting mortality."
   ]
  },
  {
   "cell_type": "code",
   "execution_count": null,
   "metadata": {},
   "outputs": [],
   "source": [
    "script_path = local_dir+'src/training_scripts/neural_network_models.py'\n",
    "exp = 'mortality'\n",
    "conf_name ='de-novo-clean_resampling.yaml'\n",
    "\n",
    "!python {script_path} {exp} {conf_name}"
   ]
  }
 ],
 "metadata": {
  "kernelspec": {
   "display_name": "Python 3",
   "language": "python",
   "name": "python3"
  },
  "language_info": {
   "codemirror_mode": {
    "name": "ipython",
    "version": 3
   },
   "file_extension": ".py",
   "mimetype": "text/x-python",
   "name": "python",
   "nbconvert_exporter": "python",
   "pygments_lexer": "ipython3",
   "version": "3.8.3"
  }
 },
 "nbformat": 4,
 "nbformat_minor": 4
}
